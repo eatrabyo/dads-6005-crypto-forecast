{
 "cells": [
  {
   "cell_type": "code",
   "execution_count": 5,
   "metadata": {},
   "outputs": [],
   "source": [
    "from query_sql import query_stmt\n",
    "from db_connection import mydb_engine"
   ]
  },
  {
   "cell_type": "code",
   "execution_count": 7,
   "metadata": {},
   "outputs": [
    {
     "data": {
      "text/html": [
       "<div>\n",
       "<style scoped>\n",
       "    .dataframe tbody tr th:only-of-type {\n",
       "        vertical-align: middle;\n",
       "    }\n",
       "\n",
       "    .dataframe tbody tr th {\n",
       "        vertical-align: top;\n",
       "    }\n",
       "\n",
       "    .dataframe thead th {\n",
       "        text-align: right;\n",
       "    }\n",
       "</style>\n",
       "<table border=\"1\" class=\"dataframe\">\n",
       "  <thead>\n",
       "    <tr style=\"text-align: right;\">\n",
       "      <th></th>\n",
       "      <th>datetime</th>\n",
       "      <th>open</th>\n",
       "      <th>high</th>\n",
       "      <th>low</th>\n",
       "      <th>close</th>\n",
       "      <th>volume</th>\n",
       "      <th>pct_chg</th>\n",
       "      <th>w_avg_price</th>\n",
       "    </tr>\n",
       "  </thead>\n",
       "  <tbody>\n",
       "    <tr>\n",
       "      <th>0</th>\n",
       "      <td>2023-12-07 19:50:06</td>\n",
       "      <td>2265.27</td>\n",
       "      <td>2284.6</td>\n",
       "      <td>2220.0</td>\n",
       "      <td>2250.12</td>\n",
       "      <td>346229.8826</td>\n",
       "      <td>-0.669</td>\n",
       "      <td>2251.618661</td>\n",
       "    </tr>\n",
       "    <tr>\n",
       "      <th>1</th>\n",
       "      <td>2023-12-07 19:50:07</td>\n",
       "      <td>2265.27</td>\n",
       "      <td>2284.6</td>\n",
       "      <td>2220.0</td>\n",
       "      <td>2250.30</td>\n",
       "      <td>346234.7202</td>\n",
       "      <td>-0.661</td>\n",
       "      <td>2251.618640</td>\n",
       "    </tr>\n",
       "    <tr>\n",
       "      <th>2</th>\n",
       "      <td>2023-12-07 19:50:08</td>\n",
       "      <td>2265.27</td>\n",
       "      <td>2284.6</td>\n",
       "      <td>2220.0</td>\n",
       "      <td>2250.42</td>\n",
       "      <td>346238.9048</td>\n",
       "      <td>-0.656</td>\n",
       "      <td>2251.618625</td>\n",
       "    </tr>\n",
       "    <tr>\n",
       "      <th>3</th>\n",
       "      <td>2023-12-07 19:50:09</td>\n",
       "      <td>2265.27</td>\n",
       "      <td>2284.6</td>\n",
       "      <td>2220.0</td>\n",
       "      <td>2250.42</td>\n",
       "      <td>346238.9048</td>\n",
       "      <td>-0.656</td>\n",
       "      <td>2251.618625</td>\n",
       "    </tr>\n",
       "    <tr>\n",
       "      <th>4</th>\n",
       "      <td>2023-12-07 19:50:10</td>\n",
       "      <td>2265.27</td>\n",
       "      <td>2284.6</td>\n",
       "      <td>2220.0</td>\n",
       "      <td>2250.42</td>\n",
       "      <td>346238.9490</td>\n",
       "      <td>-0.656</td>\n",
       "      <td>2251.618625</td>\n",
       "    </tr>\n",
       "    <tr>\n",
       "      <th>...</th>\n",
       "      <td>...</td>\n",
       "      <td>...</td>\n",
       "      <td>...</td>\n",
       "      <td>...</td>\n",
       "      <td>...</td>\n",
       "      <td>...</td>\n",
       "      <td>...</td>\n",
       "      <td>...</td>\n",
       "    </tr>\n",
       "    <tr>\n",
       "      <th>29568</th>\n",
       "      <td>2023-12-08 04:13:37</td>\n",
       "      <td>2259.78</td>\n",
       "      <td>2360.0</td>\n",
       "      <td>2220.0</td>\n",
       "      <td>2354.66</td>\n",
       "      <td>473454.9189</td>\n",
       "      <td>4.199</td>\n",
       "      <td>2285.303926</td>\n",
       "    </tr>\n",
       "    <tr>\n",
       "      <th>29569</th>\n",
       "      <td>2023-12-08 04:13:38</td>\n",
       "      <td>2259.78</td>\n",
       "      <td>2360.0</td>\n",
       "      <td>2220.0</td>\n",
       "      <td>2354.66</td>\n",
       "      <td>473455.1169</td>\n",
       "      <td>4.199</td>\n",
       "      <td>2285.303955</td>\n",
       "    </tr>\n",
       "    <tr>\n",
       "      <th>29570</th>\n",
       "      <td>2023-12-08 04:13:39</td>\n",
       "      <td>2259.78</td>\n",
       "      <td>2360.0</td>\n",
       "      <td>2220.0</td>\n",
       "      <td>2354.65</td>\n",
       "      <td>473457.0187</td>\n",
       "      <td>4.198</td>\n",
       "      <td>2285.304234</td>\n",
       "    </tr>\n",
       "    <tr>\n",
       "      <th>29571</th>\n",
       "      <td>2023-12-08 04:13:40</td>\n",
       "      <td>2259.78</td>\n",
       "      <td>2360.0</td>\n",
       "      <td>2220.0</td>\n",
       "      <td>2354.65</td>\n",
       "      <td>473457.0434</td>\n",
       "      <td>4.198</td>\n",
       "      <td>2285.304237</td>\n",
       "    </tr>\n",
       "    <tr>\n",
       "      <th>29572</th>\n",
       "      <td>2023-12-08 04:13:41</td>\n",
       "      <td>2259.78</td>\n",
       "      <td>2360.0</td>\n",
       "      <td>2220.0</td>\n",
       "      <td>2354.65</td>\n",
       "      <td>473457.3348</td>\n",
       "      <td>4.198</td>\n",
       "      <td>2285.304280</td>\n",
       "    </tr>\n",
       "  </tbody>\n",
       "</table>\n",
       "<p>29573 rows × 8 columns</p>\n",
       "</div>"
      ],
      "text/plain": [
       "                 datetime     open    high     low    close       volume  \\\n",
       "0     2023-12-07 19:50:06  2265.27  2284.6  2220.0  2250.12  346229.8826   \n",
       "1     2023-12-07 19:50:07  2265.27  2284.6  2220.0  2250.30  346234.7202   \n",
       "2     2023-12-07 19:50:08  2265.27  2284.6  2220.0  2250.42  346238.9048   \n",
       "3     2023-12-07 19:50:09  2265.27  2284.6  2220.0  2250.42  346238.9048   \n",
       "4     2023-12-07 19:50:10  2265.27  2284.6  2220.0  2250.42  346238.9490   \n",
       "...                   ...      ...     ...     ...      ...          ...   \n",
       "29568 2023-12-08 04:13:37  2259.78  2360.0  2220.0  2354.66  473454.9189   \n",
       "29569 2023-12-08 04:13:38  2259.78  2360.0  2220.0  2354.66  473455.1169   \n",
       "29570 2023-12-08 04:13:39  2259.78  2360.0  2220.0  2354.65  473457.0187   \n",
       "29571 2023-12-08 04:13:40  2259.78  2360.0  2220.0  2354.65  473457.0434   \n",
       "29572 2023-12-08 04:13:41  2259.78  2360.0  2220.0  2354.65  473457.3348   \n",
       "\n",
       "       pct_chg  w_avg_price  \n",
       "0       -0.669  2251.618661  \n",
       "1       -0.661  2251.618640  \n",
       "2       -0.656  2251.618625  \n",
       "3       -0.656  2251.618625  \n",
       "4       -0.656  2251.618625  \n",
       "...        ...          ...  \n",
       "29568    4.199  2285.303926  \n",
       "29569    4.199  2285.303955  \n",
       "29570    4.198  2285.304234  \n",
       "29571    4.198  2285.304237  \n",
       "29572    4.198  2285.304280  \n",
       "\n",
       "[29573 rows x 8 columns]"
      ]
     },
     "execution_count": 7,
     "metadata": {},
     "output_type": "execute_result"
    }
   ],
   "source": [
    "from sqlalchemy import exc, text, bindparam\n",
    "import pandas as pd\n",
    "stmt = \"\"\" select * from eth_price;\"\"\"\n",
    "t = text(stmt)\n",
    "df = pd.read_sql(t,con=mydb_engine)\n",
    "df"
   ]
  },
  {
   "cell_type": "code",
   "execution_count": 22,
   "metadata": {},
   "outputs": [],
   "source": [
    "# First we will import the necessary Library \n",
    "\n",
    "import os\n",
    "import pandas as pd\n",
    "import numpy as np\n",
    "import math\n",
    "import datetime as dt\n",
    "import matplotlib.pyplot as plt\n",
    "\n",
    "# For Evalution we will use these library\n",
    "\n",
    "from sklearn.metrics import mean_squared_error, mean_absolute_error, explained_variance_score, r2_score \n",
    "from sklearn.metrics import mean_poisson_deviance, mean_gamma_deviance, accuracy_score\n",
    "from sklearn.preprocessing import MinMaxScaler\n",
    "\n",
    "\n",
    "\n",
    "\n",
    "# For PLotting we will use these library\n",
    "\n",
    "import matplotlib.pyplot as plt\n",
    "from itertools import cycle\n",
    "import plotly.graph_objects as go\n",
    "import plotly.express as px\n",
    "from plotly.subplots import make_subplots"
   ]
  },
  {
   "cell_type": "code",
   "execution_count": 23,
   "metadata": {},
   "outputs": [
    {
     "name": "stdout",
     "output_type": "stream",
     "text": [
      "<class 'sqlalchemy.exc.OperationalError'>\n",
      "(1045, \"Access denied for user 'root'@'localhost' (using password: YES)\")\n",
      "None\n"
     ]
    }
   ],
   "source": [
    "df = query_stmt(mydb_engine)"
   ]
  },
  {
   "cell_type": "code",
   "execution_count": null,
   "metadata": {},
   "outputs": [],
   "source": [
    "# preprocess dataset"
   ]
  },
  {
   "cell_type": "code",
   "execution_count": 61,
   "metadata": {},
   "outputs": [],
   "source": [
    "df2 = df.copy()#.set_index('datetime')"
   ]
  },
  {
   "cell_type": "code",
   "execution_count": 62,
   "metadata": {},
   "outputs": [
    {
     "data": {
      "text/html": [
       "<div>\n",
       "<style scoped>\n",
       "    .dataframe tbody tr th:only-of-type {\n",
       "        vertical-align: middle;\n",
       "    }\n",
       "\n",
       "    .dataframe tbody tr th {\n",
       "        vertical-align: top;\n",
       "    }\n",
       "\n",
       "    .dataframe thead th {\n",
       "        text-align: right;\n",
       "    }\n",
       "</style>\n",
       "<table border=\"1\" class=\"dataframe\">\n",
       "  <thead>\n",
       "    <tr style=\"text-align: right;\">\n",
       "      <th></th>\n",
       "      <th>datetime</th>\n",
       "      <th>open</th>\n",
       "      <th>high</th>\n",
       "      <th>low</th>\n",
       "      <th>close</th>\n",
       "      <th>volume</th>\n",
       "      <th>pct_chg</th>\n",
       "      <th>w_avg_price</th>\n",
       "      <th>date</th>\n",
       "      <th>hour</th>\n",
       "      <th>min</th>\n",
       "      <th>nxt_3m_close</th>\n",
       "      <th>return_chg3m</th>\n",
       "    </tr>\n",
       "  </thead>\n",
       "  <tbody>\n",
       "    <tr>\n",
       "      <th>0</th>\n",
       "      <td>2023-12-07 19:50:06</td>\n",
       "      <td>2265.27</td>\n",
       "      <td>2284.6</td>\n",
       "      <td>2220.0</td>\n",
       "      <td>2250.12</td>\n",
       "      <td>346229.8826</td>\n",
       "      <td>-0.669</td>\n",
       "      <td>2251.618661</td>\n",
       "      <td>2023-12-07</td>\n",
       "      <td>19</td>\n",
       "      <td>50</td>\n",
       "      <td>2250.87</td>\n",
       "      <td>0.000333</td>\n",
       "    </tr>\n",
       "    <tr>\n",
       "      <th>1</th>\n",
       "      <td>2023-12-07 19:50:07</td>\n",
       "      <td>2265.27</td>\n",
       "      <td>2284.6</td>\n",
       "      <td>2220.0</td>\n",
       "      <td>2250.30</td>\n",
       "      <td>346234.7202</td>\n",
       "      <td>-0.661</td>\n",
       "      <td>2251.618640</td>\n",
       "      <td>2023-12-07</td>\n",
       "      <td>19</td>\n",
       "      <td>50</td>\n",
       "      <td>2250.87</td>\n",
       "      <td>0.000253</td>\n",
       "    </tr>\n",
       "    <tr>\n",
       "      <th>2</th>\n",
       "      <td>2023-12-07 19:50:08</td>\n",
       "      <td>2265.27</td>\n",
       "      <td>2284.6</td>\n",
       "      <td>2220.0</td>\n",
       "      <td>2250.42</td>\n",
       "      <td>346238.9048</td>\n",
       "      <td>-0.656</td>\n",
       "      <td>2251.618625</td>\n",
       "      <td>2023-12-07</td>\n",
       "      <td>19</td>\n",
       "      <td>50</td>\n",
       "      <td>2250.87</td>\n",
       "      <td>0.000200</td>\n",
       "    </tr>\n",
       "    <tr>\n",
       "      <th>3</th>\n",
       "      <td>2023-12-07 19:50:09</td>\n",
       "      <td>2265.27</td>\n",
       "      <td>2284.6</td>\n",
       "      <td>2220.0</td>\n",
       "      <td>2250.42</td>\n",
       "      <td>346238.9048</td>\n",
       "      <td>-0.656</td>\n",
       "      <td>2251.618625</td>\n",
       "      <td>2023-12-07</td>\n",
       "      <td>19</td>\n",
       "      <td>50</td>\n",
       "      <td>2250.87</td>\n",
       "      <td>0.000200</td>\n",
       "    </tr>\n",
       "    <tr>\n",
       "      <th>4</th>\n",
       "      <td>2023-12-07 19:50:10</td>\n",
       "      <td>2265.27</td>\n",
       "      <td>2284.6</td>\n",
       "      <td>2220.0</td>\n",
       "      <td>2250.42</td>\n",
       "      <td>346238.9490</td>\n",
       "      <td>-0.656</td>\n",
       "      <td>2251.618625</td>\n",
       "      <td>2023-12-07</td>\n",
       "      <td>19</td>\n",
       "      <td>50</td>\n",
       "      <td>2250.87</td>\n",
       "      <td>0.000200</td>\n",
       "    </tr>\n",
       "  </tbody>\n",
       "</table>\n",
       "</div>"
      ],
      "text/plain": [
       "             datetime     open    high     low    close       volume  pct_chg  \\\n",
       "0 2023-12-07 19:50:06  2265.27  2284.6  2220.0  2250.12  346229.8826   -0.669   \n",
       "1 2023-12-07 19:50:07  2265.27  2284.6  2220.0  2250.30  346234.7202   -0.661   \n",
       "2 2023-12-07 19:50:08  2265.27  2284.6  2220.0  2250.42  346238.9048   -0.656   \n",
       "3 2023-12-07 19:50:09  2265.27  2284.6  2220.0  2250.42  346238.9048   -0.656   \n",
       "4 2023-12-07 19:50:10  2265.27  2284.6  2220.0  2250.42  346238.9490   -0.656   \n",
       "\n",
       "   w_avg_price       date  hour  min  nxt_3m_close  return_chg3m  \n",
       "0  2251.618661 2023-12-07    19   50       2250.87      0.000333  \n",
       "1  2251.618640 2023-12-07    19   50       2250.87      0.000253  \n",
       "2  2251.618625 2023-12-07    19   50       2250.87      0.000200  \n",
       "3  2251.618625 2023-12-07    19   50       2250.87      0.000200  \n",
       "4  2251.618625 2023-12-07    19   50       2250.87      0.000200  "
      ]
     },
     "execution_count": 62,
     "metadata": {},
     "output_type": "execute_result"
    }
   ],
   "source": [
    "\n",
    "\n",
    "# extract date and time\n",
    "df2['date'] = df2['datetime'].dt.normalize()\n",
    "df2['hour'] = df2['datetime'].dt.hour\n",
    "df2['min'] = df2['datetime'].dt.minute\n",
    "\n",
    "# create Y column\n",
    "df2['nxt_3m_close'] = df2['close'].shift(-180)\n",
    "df2['return_chg3m'] = (df2['nxt_3m_close'] - df2['close']) / df2['close']\n",
    "\n",
    "# drop NA\n",
    "df2 = df2.loc[df2['return_chg3m'].isna() == False]\n",
    "df2.head()"
   ]
  },
  {
   "cell_type": "code",
   "execution_count": 63,
   "metadata": {},
   "outputs": [
    {
     "data": {
      "text/plain": [
       "29393"
      ]
     },
     "execution_count": 63,
     "metadata": {},
     "output_type": "execute_result"
    }
   ],
   "source": [
    "len(df2)"
   ]
  },
  {
   "cell_type": "code",
   "execution_count": 57,
   "metadata": {},
   "outputs": [
    {
     "data": {
      "text/plain": [
       "29393"
      ]
     },
     "execution_count": 57,
     "metadata": {},
     "output_type": "execute_result"
    }
   ],
   "source": [
    "len(df2.loc[df2['return_chg3m'].isna() == False])"
   ]
  },
  {
   "cell_type": "code",
   "execution_count": 58,
   "metadata": {},
   "outputs": [
    {
     "data": {
      "text/plain": [
       "180"
      ]
     },
     "execution_count": 58,
     "metadata": {},
     "output_type": "execute_result"
    }
   ],
   "source": [
    "len(df2.loc[df2['return_chg3m'].isna()])"
   ]
  },
  {
   "cell_type": "code",
   "execution_count": 36,
   "metadata": {},
   "outputs": [
    {
     "data": {
      "text/plain": [
       "19"
      ]
     },
     "execution_count": 36,
     "metadata": {},
     "output_type": "execute_result"
    }
   ],
   "source": [
    "df2.iloc[0,0].hour"
   ]
  }
 ],
 "metadata": {
  "kernelspec": {
   "display_name": "Python 3",
   "language": "python",
   "name": "python3"
  },
  "language_info": {
   "codemirror_mode": {
    "name": "ipython",
    "version": 3
   },
   "file_extension": ".py",
   "mimetype": "text/x-python",
   "name": "python",
   "nbconvert_exporter": "python",
   "pygments_lexer": "ipython3",
   "version": "3.11.4"
  }
 },
 "nbformat": 4,
 "nbformat_minor": 2
}
